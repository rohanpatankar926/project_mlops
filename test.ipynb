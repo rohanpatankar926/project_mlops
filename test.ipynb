{
 "cells": [
  {
   "cell_type": "code",
   "execution_count": 7,
   "metadata": {},
   "outputs": [
    {
     "name": "stdout",
     "output_type": "stream",
     "text": [
      "None\n"
     ]
    }
   ],
   "source": [
    "import os\n",
    "from sensor.exception import SensorException\n",
    "import sys\n",
    "\n",
    "class ModelResolver(object):\n",
    "    def __init__(self,model_registry:str=\"saved_models\",\n",
    "                    tranformed_dir_name:str=\"transformer\",\n",
    "                    target_encoder:str=\"target_encoder\",\n",
    "                    model_dir_name:str=\"model\"):\n",
    "        self.model_registry=model_registry\n",
    "        os.makedirs(self.model_registry,exist_ok=True)\n",
    "        self.tranformed_dir_name=tranformed_dir_name\n",
    "        self.model_dir_name=model_dir_name\n",
    "\n",
    "    def get_latest_model_path(self):\n",
    "        try:\n",
    "            dir_name=os.listdir(self.model_registry)\n",
    "            if len(dir_name)==0:\n",
    "                return None\n",
    "            dir_name=list(map(int,dir_name))\n",
    "            latest_dir_name=max(dir_name)\n",
    "            return os.path.join(self.model_registry,latest_dir_name)\n",
    "        except Exception as e:\n",
    "            raise SensorException(e,sys)\n",
    "\n",
    "obj=ModelResolver()\n",
    "print(obj.get_latest_model_path())"
   ]
  },
  {
   "cell_type": "code",
   "execution_count": 10,
   "metadata": {},
   "outputs": [
    {
     "name": "stdout",
     "output_type": "stream",
     "text": [
      "(None, None, None)\n",
      "None\n",
      "None\n",
      "None\n"
     ]
    },
    {
     "ename": "AttributeError",
     "evalue": "'NoneType' object has no attribute 'tb_frame'",
     "output_type": "error",
     "traceback": [
      "\u001b[1;31m---------------------------------------------------------------------------\u001b[0m",
      "\u001b[1;31mAttributeError\u001b[0m                            Traceback (most recent call last)",
      "Cell \u001b[1;32mIn[10], line 13\u001b[0m\n\u001b[0;32m     10\u001b[0m     error_message \u001b[39m=\u001b[39m \u001b[39m\"\u001b[39m\u001b[39mError occurred python script name [\u001b[39m\u001b[39m{0}\u001b[39;00m\u001b[39m] line number [\u001b[39m\u001b[39m{1}\u001b[39;00m\u001b[39m] error message [\u001b[39m\u001b[39m{2}\u001b[39;00m\u001b[39m]\u001b[39m\u001b[39m\"\u001b[39m\u001b[39m.\u001b[39mformat(file_name, exc_tb\u001b[39m.\u001b[39mtb_lineno, \u001b[39mstr\u001b[39m(error))\n\u001b[0;32m     11\u001b[0m     \u001b[39mreturn\u001b[39;00m error_message\n\u001b[1;32m---> 13\u001b[0m error_message_detail(\u001b[39m\"\u001b[39;49m\u001b[39merror\u001b[39;49m\u001b[39m\"\u001b[39;49m,sys)\n",
      "Cell \u001b[1;32mIn[10], line 9\u001b[0m, in \u001b[0;36merror_message_detail\u001b[1;34m(error, error_detail)\u001b[0m\n\u001b[0;32m      7\u001b[0m \u001b[39mprint\u001b[39m(_)\n\u001b[0;32m      8\u001b[0m \u001b[39mprint\u001b[39m(exc_tb)\n\u001b[1;32m----> 9\u001b[0m file_name \u001b[39m=\u001b[39m exc_tb\u001b[39m.\u001b[39;49mtb_frame\u001b[39m.\u001b[39mf_code\u001b[39m.\u001b[39mco_filename\n\u001b[0;32m     10\u001b[0m error_message \u001b[39m=\u001b[39m \u001b[39m\"\u001b[39m\u001b[39mError occurred python script name [\u001b[39m\u001b[39m{0}\u001b[39;00m\u001b[39m] line number [\u001b[39m\u001b[39m{1}\u001b[39;00m\u001b[39m] error message [\u001b[39m\u001b[39m{2}\u001b[39;00m\u001b[39m]\u001b[39m\u001b[39m\"\u001b[39m\u001b[39m.\u001b[39mformat(file_name, exc_tb\u001b[39m.\u001b[39mtb_lineno, \u001b[39mstr\u001b[39m(error))\n\u001b[0;32m     11\u001b[0m \u001b[39mreturn\u001b[39;00m error_message\n",
      "\u001b[1;31mAttributeError\u001b[0m: 'NoneType' object has no attribute 'tb_frame'"
     ]
    }
   ],
   "source": [
    "import sys,os\n",
    "\n",
    "def error_message_detail(error, error_detail: sys):\n",
    "    _, _, exc_tb = error_detail.exc_info()\n",
    "    print(error_detail.exc_info())\n",
    "    print(_)\n",
    "    print(_)\n",
    "    print(exc_tb)\n",
    "    file_name = exc_tb.tb_frame.f_code.co_filename\n",
    "    error_message = \"Error occurred python script name [{0}] line number [{1}] error message [{2}]\".format(file_name, exc_tb.tb_lineno, str(error))\n",
    "    return error_message\n",
    "\n",
    "error_message_detail(\"error\",sys)"
   ]
  },
  {
   "cell_type": "code",
   "execution_count": 11,
   "metadata": {},
   "outputs": [],
   "source": [
    "def debug():\n",
    "    try:\n",
    "        a=1/0\n",
    "    except Exception as e:\n",
    "        raise error_message_detail(e,sys)"
   ]
  },
  {
   "cell_type": "code",
   "execution_count": 12,
   "metadata": {},
   "outputs": [
    {
     "name": "stdout",
     "output_type": "stream",
     "text": [
      "(<class 'ZeroDivisionError'>, ZeroDivisionError('division by zero'), <traceback object at 0x0000024059B33A80>)\n",
      "division by zero\n",
      "division by zero\n",
      "<traceback object at 0x0000024059B33A80>\n"
     ]
    },
    {
     "ename": "TypeError",
     "evalue": "exceptions must derive from BaseException",
     "output_type": "error",
     "traceback": [
      "\u001b[1;31m---------------------------------------------------------------------------\u001b[0m",
      "\u001b[1;31mZeroDivisionError\u001b[0m                         Traceback (most recent call last)",
      "Cell \u001b[1;32mIn[11], line 3\u001b[0m, in \u001b[0;36mdebug\u001b[1;34m()\u001b[0m\n\u001b[0;32m      2\u001b[0m \u001b[39mtry\u001b[39;00m:\n\u001b[1;32m----> 3\u001b[0m     a\u001b[39m=\u001b[39m\u001b[39m1\u001b[39;49m\u001b[39m/\u001b[39;49m\u001b[39m0\u001b[39;49m\n\u001b[0;32m      4\u001b[0m \u001b[39mexcept\u001b[39;00m \u001b[39mException\u001b[39;00m \u001b[39mas\u001b[39;00m e:\n",
      "\u001b[1;31mZeroDivisionError\u001b[0m: division by zero",
      "\nDuring handling of the above exception, another exception occurred:\n",
      "\u001b[1;31mTypeError\u001b[0m                                 Traceback (most recent call last)",
      "Cell \u001b[1;32mIn[12], line 1\u001b[0m\n\u001b[1;32m----> 1\u001b[0m \u001b[39mprint\u001b[39m(debug())\n",
      "Cell \u001b[1;32mIn[11], line 5\u001b[0m, in \u001b[0;36mdebug\u001b[1;34m()\u001b[0m\n\u001b[0;32m      3\u001b[0m     a\u001b[39m=\u001b[39m\u001b[39m1\u001b[39m\u001b[39m/\u001b[39m\u001b[39m0\u001b[39m\n\u001b[0;32m      4\u001b[0m \u001b[39mexcept\u001b[39;00m \u001b[39mException\u001b[39;00m \u001b[39mas\u001b[39;00m e:\n\u001b[1;32m----> 5\u001b[0m     \u001b[39mraise\u001b[39;00m error_message_detail(e,sys)\n",
      "\u001b[1;31mTypeError\u001b[0m: exceptions must derive from BaseException"
     ]
    }
   ],
   "source": [
    "print(debug())"
   ]
  },
  {
   "cell_type": "code",
   "execution_count": 13,
   "metadata": {},
   "outputs": [
    {
     "ename": "ZeroDivisionError",
     "evalue": "division by zero",
     "output_type": "error",
     "traceback": [
      "\u001b[1;31m---------------------------------------------------------------------------\u001b[0m",
      "\u001b[1;31mZeroDivisionError\u001b[0m                         Traceback (most recent call last)",
      "Cell \u001b[1;32mIn[13], line 3\u001b[0m\n\u001b[0;32m      1\u001b[0m \u001b[39mdef\u001b[39;00m \u001b[39ma\u001b[39m():\n\u001b[0;32m      2\u001b[0m     \u001b[39mreturn\u001b[39;00m \u001b[39m1\u001b[39m\u001b[39m/\u001b[39m\u001b[39m0\u001b[39m\n\u001b[1;32m----> 3\u001b[0m a()\n",
      "Cell \u001b[1;32mIn[13], line 2\u001b[0m, in \u001b[0;36ma\u001b[1;34m()\u001b[0m\n\u001b[0;32m      1\u001b[0m \u001b[39mdef\u001b[39;00m \u001b[39ma\u001b[39m():\n\u001b[1;32m----> 2\u001b[0m     \u001b[39mreturn\u001b[39;00m \u001b[39m1\u001b[39;49m\u001b[39m/\u001b[39;49m\u001b[39m0\u001b[39;49m\n",
      "\u001b[1;31mZeroDivisionError\u001b[0m: division by zero"
     ]
    }
   ],
   "source": [
    "def a():\n",
    "    try:\n",
    "        return 1/0\n",
    "a() ex"
   ]
  },
  {
   "cell_type": "code",
   "execution_count": 14,
   "metadata": {},
   "outputs": [
    {
     "data": {
      "text/plain": [
       "'c:\\\\Users\\\\rohan patankar\\\\Desktop\\\\session1'"
      ]
     },
     "execution_count": 14,
     "metadata": {},
     "output_type": "execute_result"
    }
   ],
   "source": [
    "import os\n",
    "os.getcwd()"
   ]
  },
  {
   "cell_type": "code",
   "execution_count": 16,
   "metadata": {},
   "outputs": [],
   "source": [
    "new_dir=\"new_dir\"\n",
    "dir=os.path.join(os.getcwd(),new_dir)\n",
    "os.makedirs(dir,exist_ok=True)"
   ]
  },
  {
   "cell_type": "code",
   "execution_count": 20,
   "metadata": {},
   "outputs": [],
   "source": [
    "sys.path.append(os.path.join(os.getcwd(),new_dir))"
   ]
  },
  {
   "cell_type": "code",
   "execution_count": 1,
   "metadata": {},
   "outputs": [
    {
     "name": "stdout",
     "output_type": "stream",
     "text": [
      "Dockerfile\n",
      "README.md\n",
      "\u001b[34mairlflow\u001b[m\u001b[m\n",
      "aps_failure_training_set1.csv\n",
      "\u001b[34martifacts\u001b[m\u001b[m\n",
      "\u001b[34mdata_to_mongo\u001b[m\u001b[m\n",
      "\u001b[34menv\u001b[m\u001b[m\n",
      "\u001b[34mlogs\u001b[m\u001b[m\n",
      "main.py\n",
      "\u001b[34mnotebook\u001b[m\u001b[m\n",
      "requirements.txt\n",
      "\u001b[34msaved-models\u001b[m\u001b[m\n",
      "\u001b[34msaved_models\u001b[m\u001b[m\n",
      "\u001b[34msensor\u001b[m\u001b[m\n",
      "start.sh\n",
      "test.ipynb\n"
     ]
    },
    {
     "data": {
      "text/plain": [
       "0"
      ]
     },
     "execution_count": 1,
     "metadata": {},
     "output_type": "execute_result"
    }
   ],
   "source": [
    "import os\n",
    "os.system(\"ls\")"
   ]
  },
  {
   "cell_type": "code",
   "execution_count": null,
   "metadata": {},
   "outputs": [],
   "source": []
  }
 ],
 "metadata": {
  "kernelspec": {
   "display_name": "env",
   "language": "python",
   "name": "python3"
  },
  "language_info": {
   "codemirror_mode": {
    "name": "ipython",
    "version": 3
   },
   "file_extension": ".py",
   "mimetype": "text/x-python",
   "name": "python",
   "nbconvert_exporter": "python",
   "pygments_lexer": "ipython3",
   "version": "3.11.3"
  },
  "orig_nbformat": 4,
  "vscode": {
   "interpreter": {
    "hash": "2c0b54c5397533930311d532339ce9135582fa33a720b36f669017a0f827451a"
   }
  }
 },
 "nbformat": 4,
 "nbformat_minor": 2
}
